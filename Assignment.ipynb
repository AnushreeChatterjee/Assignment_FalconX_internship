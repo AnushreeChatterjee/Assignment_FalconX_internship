{
 "cells": [
  {
   "cell_type": "code",
   "execution_count": 45,
   "metadata": {},
   "outputs": [],
   "source": [
    "# Assuming there are no transactions taking place unless an until place_market_order function is called\n",
    "class Limit:\n",
    "    \n",
    "    i=0      # global variable for unique order id assignment\n",
    "    ask=[]   # limit order list of sellers\n",
    "    bid=[]   # limit order list of buyers\n",
    "    \n",
    "    pq_ask = [] # list of quantity-price pairs in order of best offer\n",
    "    pq_bid = [] # list of quantity-price pairs in order of best bid\n",
    "    \n",
    "    \n",
    "    def func1(self,x):\n",
    "        return (x[1])\n",
    "    \n",
    "    def func2(self,x):\n",
    "        return (x[1])\n",
    "    \n",
    "    \n",
    "    def add_limit_order(self,side,user_id,quantity,price):\n",
    "        \n",
    "        self.i+=1\n",
    "        \n",
    "        d={ \"order_id\" : self.i,\n",
    "            \"user_id\" : user_id,\n",
    "            \"quantity\" : quantity,\n",
    "            \"price\" : price }\n",
    "        \n",
    "        if(side is 'ask'):\n",
    "            self.ask.append(d)\n",
    "            self.pq_ask.append([d[\"quantity\"], d[\"price\"]])\n",
    "        \n",
    "        \n",
    "        if(side is 'bid'):\n",
    "            self.bid.append(d);\n",
    "            self.pq_bid.append([d[\"quantity\"],d[\"price\"]])\n",
    "        \n",
    "        \n",
    "        self.pq_ask = sorted(self.pq_ask,key=self.func1,reverse=False)\n",
    "    \n",
    "        self.pq_bid = sorted(self.pq_bid,key=self.func2,reverse=True)\n",
    "        \n",
    "    \n",
    "    def showBook(self):\n",
    "    \n",
    "        print(self.ask)\n",
    "        \n",
    "        print(self.bid)\n",
    "        \n",
    "    \n",
    "    def place_market_order(self,side,quantity):\n",
    "        \n",
    "        currentNumberOfSellers = len(self.pq_ask)\n",
    "        currentNumberOfBuyers = len(self.pq_bid)\n",
    "        \n",
    "        if(side is 'ask'):\n",
    "            \n",
    "            totalPrice = 0\n",
    "            initialQuantity = quantity\n",
    "            \n",
    "            for i in range (currentNumberOfSellers):\n",
    "                \n",
    "                x = self.pq_ask[i]\n",
    "                \n",
    "                if(x[0] >= quantity):\n",
    "                    \n",
    "                    totalPrice += (x[1]*quantity)\n",
    "                    self.pq_ask[i][0] -= quantity\n",
    "                    quantity = 0\n",
    "                    break\n",
    "                \n",
    "                if(x[0] < quantity):\n",
    "                    \n",
    "                    totalPrice += (x[1]*x[0])\n",
    "                    quantity -= x[0]\n",
    "                    self.pq_ask[i][0] = 0\n",
    "                \n",
    "                if(quantity == 0):\n",
    "                    break\n",
    "                    \n",
    "            quantitySold = initialQuantity - quantity\n",
    "            avgSellingPrice = totalPrice / quantitySold\n",
    "            \n",
    "            return quantitySold, avgSellingPrice\n",
    "        \n",
    "        if(side is 'bid'):\n",
    "            \n",
    "            totalPrice = 0\n",
    "            initialQuantity = quantity\n",
    "            \n",
    "            for i in range (currentNumberOfBuyers):\n",
    "                \n",
    "                x=self.pq_bid[i]\n",
    "                \n",
    "                if(x[0] >= quantity):\n",
    "                    \n",
    "                    totalPrice += (x[1]*quantity)\n",
    "                    self.pq_bid[i][0] -= quantity\n",
    "                    quantity=0\n",
    "                    break\n",
    "                    \n",
    "                if(x[0] < quantity):\n",
    "                    \n",
    "                    totalPrice += (x[1]*x[0])\n",
    "                    quantity -= x[0]\n",
    "                    self.pq_bid[i][0] = 0\n",
    "                    \n",
    "                if (quantity==0):\n",
    "                    break\n",
    "                \n",
    "            quantityBought = initialQuantity - quantity\n",
    "            avgBuyingPrice = totalPrice / quantityBought\n",
    "            \n",
    "            #arranging list again in order of best bid/offer after updation\n",
    "            self.pq_ask = sorted(self.pq_ask,key=self.func1,reverse=False)\n",
    "            self.pq_bid = sorted(self.pq_bid,key=self.func2,reverse=True)\n",
    "                \n",
    "            return quantityBought,avgBuyingPrice\n",
    "        \n",
    "    def cancel_limit_order(self,order_id):\n",
    "        \n",
    "        numberOfSellers = len(self.pq_ask)\n",
    "        numberOfBuyers = len(self.pq_bid)\n",
    "        flag = 0\n",
    "        \n",
    "        for i in range (numberOfSellers):\n",
    "            \n",
    "            x = self.ask[i]\n",
    "            \n",
    "            if(x[\"order_id\"] == order_id):\n",
    "                flag = 1\n",
    "                break\n",
    "        \n",
    "        if(flag == 0):\n",
    "            for i in range (numberOfBuyers):\n",
    "                \n",
    "                x = self.bid[i]\n",
    "            \n",
    "                if(x[\"order_id\"] == order_id):\n",
    "                    \n",
    "                    flag = 1\n",
    "                    break\n",
    "        \n",
    "            del self.bid[i]\n",
    "            \n",
    "        else:\n",
    "            \n",
    "            del self.ask[i]\n",
    "    \n",
    "    def bbo(self):\n",
    "        \n",
    "        x = self.pq_ask[0]\n",
    "        y = self.pq_bid[0]\n",
    "        \n",
    "        return y[1],x[1]"
   ]
  },
  {
   "cell_type": "code",
   "execution_count": 46,
   "metadata": {},
   "outputs": [],
   "source": [
    "lob=Limit()"
   ]
  },
  {
   "cell_type": "code",
   "execution_count": 47,
   "metadata": {},
   "outputs": [],
   "source": [
    "lob.add_limit_order('ask', 'alice', 10, 100)\n",
    "lob.add_limit_order('ask', 'bob', 5, 95)\n",
    "lob.add_limit_order('bid', 'charles', 20, 85)\n",
    "lob.add_limit_order('bid', 'dave', 10, 80)\n",
    "#lob.add_limit_order('ask', 'harry',12, 75)\n",
    "#print(lob.pq_ask)\n",
    "#lob.add_limit_order()\n"
   ]
  },
  {
   "cell_type": "code",
   "execution_count": 48,
   "metadata": {},
   "outputs": [
    {
     "name": "stdout",
     "output_type": "stream",
     "text": [
      "[{'order_id': 1, 'user_id': 'alice', 'quantity': 10, 'price': 100}, {'order_id': 2, 'user_id': 'bob', 'quantity': 5, 'price': 95}]\n",
      "[{'order_id': 3, 'user_id': 'charles', 'quantity': 20, 'price': 85}, {'order_id': 4, 'user_id': 'dave', 'quantity': 10, 'price': 80}]\n"
     ]
    }
   ],
   "source": [
    "lob.showBook()"
   ]
  },
  {
   "cell_type": "code",
   "execution_count": 49,
   "metadata": {},
   "outputs": [
    {
     "data": {
      "text/plain": [
       "(12, 97.91666666666667)"
      ]
     },
     "execution_count": 49,
     "metadata": {},
     "output_type": "execute_result"
    }
   ],
   "source": [
    "lob.place_market_order('ask',12)"
   ]
  },
  {
   "cell_type": "code",
   "execution_count": 50,
   "metadata": {},
   "outputs": [],
   "source": [
    "lob.cancel_limit_order(4)"
   ]
  },
  {
   "cell_type": "code",
   "execution_count": 51,
   "metadata": {},
   "outputs": [
    {
     "name": "stdout",
     "output_type": "stream",
     "text": [
      "[{'order_id': 1, 'user_id': 'alice', 'quantity': 10, 'price': 100}, {'order_id': 2, 'user_id': 'bob', 'quantity': 5, 'price': 95}]\n",
      "[{'order_id': 3, 'user_id': 'charles', 'quantity': 20, 'price': 85}]\n"
     ]
    }
   ],
   "source": [
    "lob.showBook()\n"
   ]
  },
  {
   "cell_type": "code",
   "execution_count": 52,
   "metadata": {},
   "outputs": [
    {
     "data": {
      "text/plain": [
       "(85, 95)"
      ]
     },
     "execution_count": 52,
     "metadata": {},
     "output_type": "execute_result"
    }
   ],
   "source": [
    "lob.bbo()"
   ]
  },
  {
   "cell_type": "code",
   "execution_count": null,
   "metadata": {},
   "outputs": [],
   "source": []
  },
  {
   "cell_type": "code",
   "execution_count": null,
   "metadata": {},
   "outputs": [],
   "source": []
  }
 ],
 "metadata": {
  "kernelspec": {
   "display_name": "Python 3",
   "language": "python",
   "name": "python3"
  },
  "language_info": {
   "codemirror_mode": {
    "name": "ipython",
    "version": 3
   },
   "file_extension": ".py",
   "mimetype": "text/x-python",
   "name": "python",
   "nbconvert_exporter": "python",
   "pygments_lexer": "ipython3",
   "version": "3.6.5"
  }
 },
 "nbformat": 4,
 "nbformat_minor": 2
}
